{
 "cells": [
  {
   "cell_type": "markdown",
   "metadata": {},
   "source": [
    "# Aula 1 - Ambiente Python e Princípios Básicos\n",
    "\n",
    "Checar se o python foi instalado corretamente.\n",
    "\n",
    "Para executar o código em uma célula, basta clicar na mesma e em `Run` na barra superior ou apertar `Shift + Enter` no teclado."
   ]
  },
  {
   "cell_type": "code",
   "execution_count": 4,
   "metadata": {},
   "outputs": [
    {
     "name": "stdout",
     "output_type": "stream",
     "text": [
      "3.7.0 (default, Jun 28 2018, 08:04:48) [MSC v.1912 64 bit (AMD64)]\n"
     ]
    }
   ],
   "source": [
    "import sys  # isto é um comentário, tudo o que vem na linha depois de # não é executado\n",
    "print(sys.version)  # use comentários para deixar seu código mais explicativo"
   ]
  },
  {
   "cell_type": "markdown",
   "metadata": {},
   "source": [
    "`import` é o comando que carrega uma biblioteca (_library_) na memória. `sys` é a biblioteca padrão que retorna algumas funções úteis para interagir com o sistema operacional do computador.\n",
    "\n",
    "`print()` (sempre com parêntesis) é o comando que imprime algum valor na tela. Nos notebooks jupyter isso significa que o valor será impresso logo abaixo da célula. De forma padrão os notebooks jupyter imprimem automaticamente o resultado da última linha da célula, sem precisar do `print()`"
   ]
  },
  {
   "cell_type": "markdown",
   "metadata": {},
   "source": [
    "## 1 Variáveis\n",
    "\n",
    "Uma variável armazena algum valor na memória do computador para uso futuro, simples assim. No _python_ as variáveis são criadas assim:"
   ]
  },
  {
   "cell_type": "code",
   "execution_count": 7,
   "metadata": {},
   "outputs": [
    {
     "data": {
      "text/plain": [
       "1"
      ]
     },
     "execution_count": 7,
     "metadata": {},
     "output_type": "execute_result"
    }
   ],
   "source": [
    "num = 1  # a variável 'num' tem o valor 1\n",
    "num  # deve imprimir 1 a seguir"
   ]
  },
  {
   "cell_type": "markdown",
   "metadata": {},
   "source": [
    "Para serem usadas, as variáveis devem ser definidas. Isto é, uma variável só pode existir se algum valor for dado a ela."
   ]
  },
  {
   "cell_type": "code",
   "execution_count": 8,
   "metadata": {},
   "outputs": [
    {
     "ename": "NameError",
     "evalue": "name 'var_1' is not defined",
     "output_type": "error",
     "traceback": [
      "\u001b[1;31m---------------------------------------------------------------------------\u001b[0m",
      "\u001b[1;31mNameError\u001b[0m                                 Traceback (most recent call last)",
      "\u001b[1;32m<ipython-input-8-b3179f85fa7d>\u001b[0m in \u001b[0;36m<module>\u001b[1;34m()\u001b[0m\n\u001b[1;32m----> 1\u001b[1;33m \u001b[0mvar_1\u001b[0m  \u001b[1;31m# var_1 não foi instanciada (defininda), código deve dar erro\u001b[0m\u001b[1;33m\u001b[0m\u001b[0m\n\u001b[0m",
      "\u001b[1;31mNameError\u001b[0m: name 'var_1' is not defined"
     ]
    }
   ],
   "source": [
    "var_1  # var_1 não foi instanciada (definida), código deve dar erro"
   ]
  },
  {
   "cell_type": "markdown",
   "metadata": {},
   "source": [
    "_python_ é _case-sensitive_, ou seja, a utilização de letras maiúsculas ou minúsculas importa.\n",
    "- `num` é diferente de `Num` ou `NUM`\n",
    "\n",
    "As variáveis devem sempre começar com letras, não podem conter símbolos que não sejam o \\_ e podem conter números (desde que não no começo).\n",
    "- `num`, `num_1` e `num1` são nomes válidos para variáveis. `1num`, `num!` e `num?` não são.\n",
    "\n"
   ]
  },
  {
   "cell_type": "markdown",
   "metadata": {},
   "source": [
    "### 1.1 Tipos de Variáveis\n",
    "Variáveis podem ser de diversos __tipos__, isto é, podem receber valores de diferentes utilidades. Por exemplo,"
   ]
  },
  {
   "cell_type": "code",
   "execution_count": 20,
   "metadata": {},
   "outputs": [],
   "source": [
    "# tipo integer (número inteiro)\n",
    "var_numero = 2\n",
    "# tipo float (número de ponto flutuante, com casas decimais, note que o separador é o ponto)\n",
    "var_numero2 = 2.1\n",
    "# tipo string (texto, sempre entre aspas simples '' ou duplas \"\")\n",
    "var_texto = 'Este é um texto'\n",
    "# este também é um texto, ainda que contenha número\n",
    "var_texto2 = '2'\n",
    "# tipo bool (verdadeiro ou falso, True ou False (sempre com a 1ª letra maiúscula))\n",
    "var_logica = False"
   ]
  },
  {
   "cell_type": "markdown",
   "metadata": {},
   "source": [
    "Se você não souber qual o __tipo__ da sua variável, pode checar com a função `type()`"
   ]
  },
  {
   "cell_type": "code",
   "execution_count": 14,
   "metadata": {},
   "outputs": [
    {
     "data": {
      "text/plain": [
       "bool"
      ]
     },
     "execution_count": 14,
     "metadata": {},
     "output_type": "execute_result"
    }
   ],
   "source": [
    "type(var_logica)"
   ]
  },
  {
   "cell_type": "markdown",
   "metadata": {},
   "source": [
    "### 1.2 Operações com Números\n",
    "\n",
    "Variáveis podem ser combinadas através de __operações__. Para números (int e float) podemos:"
   ]
  },
  {
   "cell_type": "code",
   "execution_count": 24,
   "metadata": {},
   "outputs": [
    {
     "data": {
      "text/plain": [
       "4.1"
      ]
     },
     "execution_count": 24,
     "metadata": {},
     "output_type": "execute_result"
    }
   ],
   "source": [
    "soma = var_numero + var_numero2  # podemos guardar o resultado de uma operação em outra variável\n",
    "soma"
   ]
  },
  {
   "cell_type": "code",
   "execution_count": 17,
   "metadata": {},
   "outputs": [
    {
     "data": {
      "text/plain": [
       "6"
      ]
     },
     "execution_count": 17,
     "metadata": {},
     "output_type": "execute_result"
    }
   ],
   "source": [
    "3 * var_numero  # multiplicação"
   ]
  },
  {
   "cell_type": "code",
   "execution_count": 18,
   "metadata": {},
   "outputs": [
    {
     "data": {
      "text/plain": [
       "1.0"
      ]
     },
     "execution_count": 18,
     "metadata": {},
     "output_type": "execute_result"
    }
   ],
   "source": [
    "var_numero/2  # divisão"
   ]
  },
  {
   "cell_type": "code",
   "execution_count": 23,
   "metadata": {},
   "outputs": [
    {
     "data": {
      "text/plain": [
       "25"
      ]
     },
     "execution_count": 23,
     "metadata": {},
     "output_type": "execute_result"
    }
   ],
   "source": [
    "5 ** 2  # potenciação"
   ]
  },
  {
   "cell_type": "code",
   "execution_count": 29,
   "metadata": {},
   "outputs": [
    {
     "data": {
      "text/plain": [
       "12"
      ]
     },
     "execution_count": 29,
     "metadata": {},
     "output_type": "execute_result"
    }
   ],
   "source": [
    "2 + 5 * 2  # a ordem dos operadores é * / + -"
   ]
  },
  {
   "cell_type": "code",
   "execution_count": 30,
   "metadata": {},
   "outputs": [
    {
     "data": {
      "text/plain": [
       "14"
      ]
     },
     "execution_count": 30,
     "metadata": {},
     "output_type": "execute_result"
    }
   ],
   "source": [
    "(2 + 5) * 2  # mas você pode usar parêntesis para forçar que uma operação aconteça primeiro"
   ]
  },
  {
   "cell_type": "code",
   "execution_count": 45,
   "metadata": {},
   "outputs": [
    {
     "data": {
      "text/plain": [
       "-1"
      ]
     },
     "execution_count": 45,
     "metadata": {},
     "output_type": "execute_result"
    }
   ],
   "source": [
    "2 - 3  # também temos números negativos!"
   ]
  },
  {
   "cell_type": "markdown",
   "metadata": {},
   "source": [
    "### 1.3 Operações com Textos\n",
    "Textos podem também ser combinados através de operações:"
   ]
  },
  {
   "cell_type": "code",
   "execution_count": 27,
   "metadata": {},
   "outputs": [
    {
     "data": {
      "text/plain": [
       "'Este é um texto 2'"
      ]
     },
     "execution_count": 27,
     "metadata": {},
     "output_type": "execute_result"
    }
   ],
   "source": [
    "var_texto + ' ' + var_texto2  # concatenação ('colar' textos)"
   ]
  },
  {
   "cell_type": "code",
   "execution_count": 26,
   "metadata": {},
   "outputs": [
    {
     "data": {
      "text/plain": [
       "'222'"
      ]
     },
     "execution_count": 26,
     "metadata": {},
     "output_type": "execute_result"
    }
   ],
   "source": [
    "var_texto2 * 3  # 'multiplicação' (repete o texto n vezes)"
   ]
  },
  {
   "cell_type": "markdown",
   "metadata": {},
   "source": [
    "Se você tiver um número em um texto, pode __converter__ os valores com as funções `int()` (converte para inteiro) e `float()` converte para ponto flutuante."
   ]
  },
  {
   "cell_type": "code",
   "execution_count": 33,
   "metadata": {},
   "outputs": [
    {
     "data": {
      "text/plain": [
       "2"
      ]
     },
     "execution_count": 33,
     "metadata": {},
     "output_type": "execute_result"
    }
   ],
   "source": [
    "var_texto2_int = int(var_texto2)\n",
    "var_texto2_int"
   ]
  },
  {
   "cell_type": "code",
   "execution_count": 34,
   "metadata": {},
   "outputs": [
    {
     "data": {
      "text/plain": [
       "6"
      ]
     },
     "execution_count": 34,
     "metadata": {},
     "output_type": "execute_result"
    }
   ],
   "source": [
    "var_texto2_int * 3  # agora é um número"
   ]
  },
  {
   "cell_type": "markdown",
   "metadata": {},
   "source": [
    "O inverso também ocorre, a função `str()` converte um número em um texto."
   ]
  },
  {
   "cell_type": "code",
   "execution_count": 35,
   "metadata": {},
   "outputs": [
    {
     "data": {
      "text/plain": [
       "'2'"
      ]
     },
     "execution_count": 35,
     "metadata": {},
     "output_type": "execute_result"
    }
   ],
   "source": [
    "str(2)  # note as aspas no resultado final"
   ]
  },
  {
   "cell_type": "code",
   "execution_count": 58,
   "metadata": {},
   "outputs": [
    {
     "name": "stdout",
     "output_type": "stream",
     "text": [
      "Você pode quebrar linhas com a sequência barra n \n",
      " no meio do seu texto\n"
     ]
    }
   ],
   "source": [
    "print(\"Você pode quebrar linhas com a sequência barra n \\n no meio do seu texto\")"
   ]
  },
  {
   "cell_type": "markdown",
   "metadata": {},
   "source": [
    "Você pode selecionar caracteres no seu texto com o operador `[]`."
   ]
  },
  {
   "cell_type": "code",
   "execution_count": 70,
   "metadata": {},
   "outputs": [
    {
     "name": "stdout",
     "output_type": "stream",
     "text": [
      "Primeiro caractere: a\n",
      "Último caractere: h\n",
      "3 primeiros: abc\n",
      "Saindo do meio:  afgh\n",
      "Até o meio: abca\n"
     ]
    }
   ],
   "source": [
    "texto = 'abca afgh'\n",
    "print('Primeiro caractere:', texto[0])  # contamos a partir do zero em python\n",
    "print('Último caractere:', texto[-1])  # podemos contar do fim ao começo também\n",
    "print('3 primeiros:', texto[0:3])  # ':' indica sequência, começamos em 0 e vamos até 3 (mas sem incluir)\n",
    "print('Saindo do meio:', texto[4:])  # não precisamos 'fechar' ou 'abrir' o ':'\n",
    "print('Até o meio:', texto[:4]) "
   ]
  },
  {
   "cell_type": "markdown",
   "metadata": {},
   "source": [
    "Também temos outros __métodos__ particulares das strings. Um __método__ é uma função própria de um tipo de dado. __Métodos__ são geralmente acessados fazendo `variavel.metodo()`. Em strings temos,"
   ]
  },
  {
   "cell_type": "code",
   "execution_count": 74,
   "metadata": {},
   "outputs": [
    {
     "name": "stdout",
     "output_type": "stream",
     "text": [
      "Texto em maiúsculas ABCA AFGH\n",
      "Texto em minúsculas abca afgh\n",
      "Maiúsculas no começo Abca afgh\n",
      "Quantas letras \"a\"? 3\n",
      "Posição de \"b\"? 1\n"
     ]
    }
   ],
   "source": [
    "print('Texto em maiúsculas', texto.upper())\n",
    "print('Texto em minúsculas', texto.lower())\n",
    "print('Maiúsculas no começo', texto.capitalize())\n",
    "print('Quantas letras \"a\"?', texto.count('a'))\n",
    "print('Posição de \"b\"?', texto.find('b'))"
   ]
  },
  {
   "cell_type": "markdown",
   "metadata": {},
   "source": [
    "### 1.4 Comparações: Operações Lógicas\n",
    "Por fim, as variáveis do tipo _bool_ são úteis para comparações. Podemos comparar variáveis com o operador `==` (dois sinais de igual)"
   ]
  },
  {
   "cell_type": "code",
   "execution_count": 36,
   "metadata": {},
   "outputs": [
    {
     "data": {
      "text/plain": [
       "True"
      ]
     },
     "execution_count": 36,
     "metadata": {},
     "output_type": "execute_result"
    }
   ],
   "source": [
    "2 == 2  # 2 é igual a 2, deve dar verdadeiro (True)"
   ]
  },
  {
   "cell_type": "code",
   "execution_count": 40,
   "metadata": {},
   "outputs": [
    {
     "data": {
      "text/plain": [
       "True"
      ]
     },
     "execution_count": 40,
     "metadata": {},
     "output_type": "execute_result"
    }
   ],
   "source": [
    "2.0 == 2  # O número inteiro 2 é igual ao número float 2.0"
   ]
  },
  {
   "cell_type": "code",
   "execution_count": 42,
   "metadata": {},
   "outputs": [
    {
     "data": {
      "text/plain": [
       "False"
      ]
     },
     "execution_count": 42,
     "metadata": {},
     "output_type": "execute_result"
    }
   ],
   "source": [
    "2 == '2'  # mas texto não é número!"
   ]
  },
  {
   "cell_type": "code",
   "execution_count": 43,
   "metadata": {},
   "outputs": [
    {
     "data": {
      "text/plain": [
       "True"
      ]
     },
     "execution_count": 43,
     "metadata": {},
     "output_type": "execute_result"
    }
   ],
   "source": [
    "'3' != '2'  # != é o operador diferente"
   ]
  },
  {
   "cell_type": "code",
   "execution_count": 44,
   "metadata": {},
   "outputs": [
    {
     "data": {
      "text/plain": [
       "True"
      ]
     },
     "execution_count": 44,
     "metadata": {},
     "output_type": "execute_result"
    }
   ],
   "source": [
    "3 > 2 # > (maior que), < (menor que), >= (maior ou igual a), <= (menor ou igual a)"
   ]
  },
  {
   "cell_type": "code",
   "execution_count": 51,
   "metadata": {},
   "outputs": [
    {
     "data": {
      "text/plain": [
       "True"
      ]
     },
     "execution_count": 51,
     "metadata": {},
     "output_type": "execute_result"
    }
   ],
   "source": [
    "(1 == 1) or (1 == 0)  # 'or' é o operador OU"
   ]
  },
  {
   "cell_type": "code",
   "execution_count": 52,
   "metadata": {},
   "outputs": [
    {
     "data": {
      "text/plain": [
       "False"
      ]
     },
     "execution_count": 52,
     "metadata": {},
     "output_type": "execute_result"
    }
   ],
   "source": [
    "(1 == 1) and (1 == 0)  # 'and' é o operador E"
   ]
  },
  {
   "cell_type": "code",
   "execution_count": 53,
   "metadata": {},
   "outputs": [
    {
     "data": {
      "text/plain": [
       "True"
      ]
     },
     "execution_count": 53,
     "metadata": {},
     "output_type": "execute_result"
    }
   ],
   "source": [
    "not False  # 'not' é o operador NÃO (inverte o resultado)"
   ]
  },
  {
   "cell_type": "markdown",
   "metadata": {},
   "source": [
    "Geralmente os métodos iniciados com `is` retornam resultados do tipo lógico. Por exemplo:"
   ]
  },
  {
   "cell_type": "code",
   "execution_count": 78,
   "metadata": {},
   "outputs": [
    {
     "name": "stdout",
     "output_type": "stream",
     "text": [
      "Texto é em maiúsculas? False\n",
      "Texto é em minúsculas? True\n",
      "Texto é espaço (\" \")? False\n"
     ]
    }
   ],
   "source": [
    "texto = 'fg hi'\n",
    "print('Texto é em maiúsculas?', texto.isupper())\n",
    "print('Texto é em minúsculas?', texto.islower())\n",
    "print('Texto é espaço (\" \")?', texto.isspace())"
   ]
  },
  {
   "cell_type": "code",
   "execution_count": 80,
   "metadata": {},
   "outputs": [
    {
     "name": "stdout",
     "output_type": "stream",
     "text": [
      "Texto termina em \"hi\"? True\n",
      "Texto começa em \"fg \"? True\n"
     ]
    }
   ],
   "source": [
    "print('Texto termina em \"hi\"?', texto.endswith('hi'))\n",
    "print('Texto começa em \"fg \"?', texto.startswith('fg '))"
   ]
  },
  {
   "cell_type": "markdown",
   "metadata": {},
   "source": [
    "## 2 Listas e Dicionários\n",
    "\n",
    "### 2.1 Listas\n",
    "\n",
    "Podemos armazenar sequências de números e outros objetos com o uso de listas. Para criar uma lista, é só utilizar `[]` e preencher com os objetos desejados."
   ]
  },
  {
   "cell_type": "code",
   "execution_count": 105,
   "metadata": {},
   "outputs": [
    {
     "data": {
      "text/plain": [
       "[1, 2, 3, 4]"
      ]
     },
     "execution_count": 105,
     "metadata": {},
     "output_type": "execute_result"
    }
   ],
   "source": [
    "lista = [1, 2, 3, 4]\n",
    "lista"
   ]
  },
  {
   "cell_type": "markdown",
   "metadata": {},
   "source": [
    "Assim como as strings, podemos acessar elementos das listas da mesma forma"
   ]
  },
  {
   "cell_type": "code",
   "execution_count": 106,
   "metadata": {},
   "outputs": [
    {
     "name": "stdout",
     "output_type": "stream",
     "text": [
      "Primeiro elemento: 1\n",
      "Último elemento: 4\n",
      "Elementos centrais: [2, 3]\n"
     ]
    }
   ],
   "source": [
    "print('Primeiro elemento:', lista[0])\n",
    "print('Último elemento:', lista[-1])\n",
    "print('Elementos centrais:', lista[1:3])"
   ]
  },
  {
   "cell_type": "markdown",
   "metadata": {},
   "source": [
    "Também temos __métodos__ específicos das listas."
   ]
  },
  {
   "cell_type": "code",
   "execution_count": 107,
   "metadata": {},
   "outputs": [
    {
     "name": "stdout",
     "output_type": "stream",
     "text": [
      "Adiciona 5 [1, 2, 3, 4, 5]\n",
      "Adiciona 0 e 7 [1, 2, 3, 4, 5, 0, 7]\n"
     ]
    }
   ],
   "source": [
    "lista.append(5)  # '.append(x)' adiciona x ao final da lista\n",
    "print('Adiciona 5', lista)\n",
    "lista.extend([0, 7])  # '.extend(lista)' 'cola' duas listas em uma só\n",
    "print('Adiciona 0 e 7', lista)"
   ]
  },
  {
   "cell_type": "code",
   "execution_count": 108,
   "metadata": {},
   "outputs": [
    {
     "name": "stdout",
     "output_type": "stream",
     "text": [
      "Quantos 2 temos? 1\n"
     ]
    }
   ],
   "source": [
    "print('Quantos 2 temos?', lista.count(2))"
   ]
  },
  {
   "cell_type": "code",
   "execution_count": 109,
   "metadata": {},
   "outputs": [
    {
     "name": "stdout",
     "output_type": "stream",
     "text": [
      "Lista invertida [7, 0, 5, 4, 3, 2, 1]\n",
      "Lista ordenada [0, 1, 2, 3, 4, 5, 7]\n"
     ]
    }
   ],
   "source": [
    "lista.reverse()  # inverte a lista\n",
    "print('Lista invertida', lista)\n",
    "lista.sort()  # ordena a lista (menor para o maior)\n",
    "print('Lista ordenada', lista)"
   ]
  },
  {
   "cell_type": "markdown",
   "metadata": {},
   "source": [
    "Podemos usar algumas funções próprias do _python_ para fazer outras coisas com listas, por exemplo:"
   ]
  },
  {
   "cell_type": "code",
   "execution_count": 118,
   "metadata": {},
   "outputs": [
    {
     "name": "stdout",
     "output_type": "stream",
     "text": [
      "Soma todos os elementos 22\n",
      "Qual o tamanho da lista? 7\n",
      "Qual o menor valor da lista? 0\n",
      "Qual o maior valor da lista? 7\n"
     ]
    }
   ],
   "source": [
    "print('Soma todos os elementos', sum(lista))\n",
    "print('Qual o tamanho da lista?', len(lista))\n",
    "print('Qual o menor valor da lista?', min(lista))\n",
    "print('Qual o maior valor da lista?', max(lista))"
   ]
  },
  {
   "cell_type": "markdown",
   "metadata": {},
   "source": [
    "### 2.2 Dicionários\n",
    "\n"
   ]
  },
  {
   "cell_type": "code",
   "execution_count": null,
   "metadata": {},
   "outputs": [],
   "source": [
    "dicionario = {'chave': 'valor',\n",
    "              2: 'chave pode ser número',\n",
    "              'valor também': 2}"
   ]
  },
  {
   "cell_type": "markdown",
   "metadata": {},
   "source": [
    "## 3 Estruturas de Controle e Repetição\n",
    "\n",
    "### 3.1 Controle com ifs\n",
    "\n",
    "### 3.2 Loops"
   ]
  },
  {
   "cell_type": "code",
   "execution_count": null,
   "metadata": {},
   "outputs": [],
   "source": []
  }
 ],
 "metadata": {
  "kernelspec": {
   "display_name": "Python 3",
   "language": "python",
   "name": "python3"
  },
  "language_info": {
   "codemirror_mode": {
    "name": "ipython",
    "version": 3
   },
   "file_extension": ".py",
   "mimetype": "text/x-python",
   "name": "python",
   "nbconvert_exporter": "python",
   "pygments_lexer": "ipython3",
   "version": "3.7.0"
  }
 },
 "nbformat": 4,
 "nbformat_minor": 2
}
