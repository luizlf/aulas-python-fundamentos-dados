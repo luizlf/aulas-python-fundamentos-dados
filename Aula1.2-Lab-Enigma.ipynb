{
 "cells": [
  {
   "cell_type": "markdown",
   "metadata": {},
   "source": [
    "# Decifrando a Enigma\n",
    "\n",
    "Um dos fatores que ajudaram no poderio alemão no início da 2ª guerra mundial foi a utilização de um sistema de criptografia poderoso para os padrões da época, baseado na utilização da máquina __Enigma__, que protegia as comunicações alemãs de serem interceptadas pelos Aliados.\n",
    "\n",
    "## Básico de Criptografia\n",
    "\n",
    "Um dos tipos de encriptação mais simples que pode ser feito é o baseado em _cifra de troca_ (ou _cifra de César_, acredita-se que o imperador utilizava este método para se comunicar com seus generais). Esta cifra funciona de maneira bem simples: ao escrever uma mensagem, trocamos cada letra pela letra correspondente $n$ posições à frente (ou antes) no alfabeto, por exemplo, com $n = 3$, temos\n",
    "\n",
    "| Caractere Original: | A | B | C | D | E | F | G | H | ... |\n",
    "|:-------------------:|:-:|:-:|:-:|:-:|:-:|:-:|:-:|:-:|:---:|\n",
    "|  __Caractere Cifrado ($n=3$):__ | D | E | F | G | H | I | J | K | ... |\n",
    "\n",
    "Neste caso, $n$ é a __chave__, e é conhecida de antemão pelo remetente e pelo destinatário da mensagem.\n",
    "\n",
    "Com base nisto, podemos escrever uma função em _python_ que faz a encriptação de forma automática."
   ]
  },
  {
   "cell_type": "code",
   "execution_count": 10,
   "metadata": {},
   "outputs": [
    {
     "data": {
      "text/plain": [
       "'ABCDEFGHIJKLMNOPQRSTUVWXYZ'"
      ]
     },
     "execution_count": 10,
     "metadata": {},
     "output_type": "execute_result"
    }
   ],
   "source": [
    "import string  # biblioteca que te dá sequências de caracteres\n",
    "import itertools  # biblioteca que permite fazer algumas operações mais complexas em iteradores\n",
    "alfabeto = string.ascii_uppercase  # alfabeto em maiúsculas (sem acentos ou caracteres especiais)\n",
    "alfabeto"
   ]
  },
  {
   "cell_type": "code",
   "execution_count": 25,
   "metadata": {},
   "outputs": [],
   "source": [
    "def cifra_cesar(texto, chave=3):\n",
    "    texto = texto.upper()  # só para garantir\n",
    "    texto_cifrado = ''\n",
    "    for letra in texto:\n",
    "        posicao_letra = alfabeto.find(letra)\n",
    "        if posicao_letra == -1:  # o método '.find()' retorna -1 se não encontra o caractere\n",
    "            letra_cifrada = letra  # se não encontramos o caractere no alfabeto, retornamos o mesmo\n",
    "        else:\n",
    "            # Usamos o % para fazer um 'ciclo' no alfabeto, pois a soma posicao_letra + chave \n",
    "            # pode dar um número maior que a quantidade de caracteres no alfabeto.\n",
    "            posicao_cifrada = (posicao_letra + chave) % len(alfabeto)\n",
    "            letra_cifrada = alfabeto[posicao_cifrada]\n",
    "        texto_cifrado = texto_cifrado + letra_cifrada\n",
    "    return texto_cifrado"
   ]
  },
  {
   "cell_type": "code",
   "execution_count": 28,
   "metadata": {},
   "outputs": [
    {
     "name": "stdout",
     "output_type": "stream",
     "text": [
      "Texto codificado: HVVD FLIUD HK PXLWR VLPSOHV\n",
      "Texto decodificado: ESSA CIFRA EH MUITO SIMPLES\n"
     ]
    }
   ],
   "source": [
    "chave = 3\n",
    "texto_cod = cifra_cesar('ESSA CIFRA EH MUITO SIMPLES', chave)\n",
    "print('Texto codificado:', texto_cod)\n",
    "# para decodificar o texto é só 'andar pra trás', ou seja, ir no sentido contrário\n",
    "print('Texto decodificado:', cifra_cesar(texto_cod, -chave))"
   ]
  },
  {
   "cell_type": "markdown",
   "metadata": {},
   "source": [
    "Cifras como esta são conhecidas como _cifras de substituição monoalfabéticas_ e são facilmente decifradas, já que somente uma letra pode ser conectada com outra (no exemplo acima, _'A'_ é sempre _'D'_ , _'B'_ é _'F'_ e assim por diante, então basta rodar por 27 chaves possíveis até 'quebrar' a cifra).\n",
    "\n",
    "## A Enigma\n",
    "\n",
    "<img src=\"enigma.jpg\" width=\"400\" height=\"200\" />\n",
    "\n",
    "_<center>Exemplar da Enigma em exposição no Museu da História da Computação em Mountain View, California.</center>_\n",
    "\n",
    "A máquina Enigma é composta por sistemas mecânicos e elétricos que configuram chaves e encriptam mensagens escritas. Estas, então, eram transmitidas via rádio e digitadas em outras Enigma que, por sua vez, estavam no modo de decodificação com as mesmas chaves. A operação do aparelho era razoavelmente simples:\n",
    "\n",
    "\n"
   ]
  },
  {
   "cell_type": "code",
   "execution_count": null,
   "metadata": {},
   "outputs": [],
   "source": []
  },
  {
   "cell_type": "code",
   "execution_count": null,
   "metadata": {},
   "outputs": [],
   "source": []
  },
  {
   "cell_type": "code",
   "execution_count": null,
   "metadata": {},
   "outputs": [],
   "source": []
  },
  {
   "cell_type": "code",
   "execution_count": null,
   "metadata": {},
   "outputs": [],
   "source": []
  },
  {
   "cell_type": "markdown",
   "metadata": {},
   "source": [
    "## Referências\n",
    "\n",
    "Inspirado pelo [post](https://blog.ricbit.com/2015/07/retrocomputacao-de-verdade-1.html) no fantástico [blog do Ricardo Bittencourt](https://blog.ricbit.com/)."
   ]
  },
  {
   "cell_type": "code",
   "execution_count": null,
   "metadata": {},
   "outputs": [],
   "source": []
  }
 ],
 "metadata": {
  "kernelspec": {
   "display_name": "Python 3",
   "language": "python",
   "name": "python3"
  },
  "language_info": {
   "codemirror_mode": {
    "name": "ipython",
    "version": 3
   },
   "file_extension": ".py",
   "mimetype": "text/x-python",
   "name": "python",
   "nbconvert_exporter": "python",
   "pygments_lexer": "ipython3",
   "version": "3.7.0"
  }
 },
 "nbformat": 4,
 "nbformat_minor": 2
}
